{
 "cells": [
  {
   "cell_type": "markdown",
   "metadata": {},
   "source": [
    "# Introduction\n",
    "Finding the best place to live in Pittsburgh means looking at what makes a neighborhood great. We're focusing on three important things: how safe it is, how much money people make there, and how easy it is to get to stores and services. Our study checks out these areas to help people figure out the best spot in Pittsburgh for them. We want this info to help not just people moving in but also those planning the city's future, making it a better place for everyone。"
   ]
  },
  {
   "cell_type": "markdown",
   "metadata": {},
   "source": [
    "## Safety: Crime Rate\n",
    "Safety first! We're looking at how many crimes happen in each neighborhood to see where it's safest. Fewer crimes mean a safer place to live, making everyone feel more at ease. We'll use police reports to see where it's safest."
   ]
  },
  {
   "cell_type": "markdown",
   "metadata": {},
   "source": [
    "## Income: Income Rate\n",
    "Money matters. We're checking out how much money people typically make in different parts of Pittsburgh. More money usually means a better standard of living and more resources. We'll look at income levels to find the prosperous spots."
   ]
  },
  {
   "cell_type": "markdown",
   "metadata": {},
   "source": [
    "## Convenience: Proximity to Amenities\n",
    "Life's easier when you have what you need close by. We're mapping out how many stores, parks, and services are within a short walk (less than 1km). More nearby amenities mean a more convenient life. We'll use maps and local info to see which neighborhoods have the most to offer."
   ]
  },
  {
   "cell_type": "markdown",
   "metadata": {},
   "source": [
    "## Sub-matrix: Income"
   ]
  },
  {
   "cell_type": "markdown",
   "metadata": {},
   "source": [
    "In order to analysis which neighborhood is the best. The income of owner's family is a good way to value the neighborhood."
   ]
  },
  {
   "cell_type": "code",
   "execution_count": null,
   "metadata": {},
   "outputs": [],
   "source": []
  }
 ],
 "metadata": {
  "kernelspec": {
   "display_name": "Python 3",
   "language": "python",
   "name": "python3"
  },
  "language_info": {
   "codemirror_mode": {
    "name": "ipython",
    "version": 3
   },
   "file_extension": ".py",
   "mimetype": "text/x-python",
   "name": "python",
   "nbconvert_exporter": "python",
   "pygments_lexer": "ipython3",
   "version": "3.8.3"
  }
 },
 "nbformat": 4,
 "nbformat_minor": 4
}
